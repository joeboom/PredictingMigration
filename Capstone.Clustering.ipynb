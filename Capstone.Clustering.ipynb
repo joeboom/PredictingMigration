{
 "cells": [
  {
   "cell_type": "markdown",
   "metadata": {},
   "source": [
    "# Country Clusters\n",
    "\n",
    "### Objective: To build a model which clusters countries\n",
    "\n",
    "We fill fit some unsupervised clustering models to determine whether similar countries (in terms of their demography, economic state, etc.) also generate differring amounts of refugees. "
   ]
  },
  {
   "cell_type": "code",
   "execution_count": 1,
   "metadata": {},
   "outputs": [],
   "source": [
    "## Read in csvs\n",
    "import pandas as pd\n",
    "\n",
    "dataset = pd.read_csv('/Users/joel/Documents/Brainstation/Tablaeu/CLEANDATA/clean_merged_all.csv').drop('Unnamed: 0', axis=1)\n",
    "refugees = pd.read_csv('/Users/joel/Documents/Brainstation/Tablaeu/immigrantbyorigin.csv')"
   ]
  },
  {
   "cell_type": "code",
   "execution_count": 2,
   "metadata": {},
   "outputs": [],
   "source": [
    "### Getting titles for each heading:\n",
    "\n",
    "fields = []\n",
    "\n",
    "for i,j in enumerate(dataset.columns):\n",
    "    if i>=1 and i<=40:\n",
    "        fields.append(j)\n",
    "        \n",
    "titles = {}\n",
    "\n",
    "for field in fields:\n",
    "            path = '/Users/joel/Documents/Brainstation/Tablaeu/UNINFO/'+field+'.csv'\n",
    "            file = pd.read_csv(path, encoding='ISO-8859-1')\n",
    "            \n",
    "            heading = field\n",
    "            title = file.columns[-1]\n",
    "\n",
    "            titles[heading] = title"
   ]
  },
  {
   "cell_type": "code",
   "execution_count": 3,
   "metadata": {},
   "outputs": [],
   "source": [
    "### Adding the sum of all arrivals to dataset\n",
    "\n",
    "sums = []\n",
    "\n",
    "for index in dataset.index:\n",
    "    sums.append(dataset.loc[index,'Alabama':].sum(0))\n",
    "    \n",
    "dataset['sum_destination'] = sums"
   ]
  },
  {
   "cell_type": "code",
   "execution_count": 4,
   "metadata": {},
   "outputs": [],
   "source": [
    "import numpy as np\n",
    "from sklearn.preprocessing import StandardScaler\n",
    "\n",
    "\n",
    "X_train = dataset.loc[:,'Demography4':'Work8']\n",
    "\n",
    "scale = StandardScaler()\n",
    "X_train = scale.fit_transform(X_train)\n",
    "\n",
    "y_train = dataset.loc[:,'sum_destination']\n"
   ]
  },
  {
   "cell_type": "code",
   "execution_count": 5,
   "metadata": {},
   "outputs": [],
   "source": [
    "###Importing sklearn models and plt\n",
    "\n",
    "from sklearn.cluster import DBSCAN, KMeans\n",
    "from matplotlib import pyplot as plt"
   ]
  },
  {
   "cell_type": "code",
   "execution_count": 7,
   "metadata": {},
   "outputs": [
    {
     "data": {
      "text/plain": [
       "Text(0,0.5,'Inertia')"
      ]
     },
     "execution_count": 7,
     "metadata": {},
     "output_type": "execute_result"
    },
    {
     "data": {
      "image/png": "[encoded data removed]",
      "text/plain": [
       "<Figure size 432x288 with 1 Axes>"
      ]
     },
     "metadata": {},
     "output_type": "display_data"
    }
   ],
   "source": [
    "### Check how many means by looking and plotting elbow\n",
    "\n",
    "score = []\n",
    "ex = []\n",
    "for tries in range(1,21):\n",
    "    db = KMeans(tries)\n",
    "    db.fit(X_train, y_train)\n",
    "    inertia = db.inertia_\n",
    "    score.append(inertia)\n",
    "    clusters = tries\n",
    "    ex.append(clusters)\n",
    "\n",
    "plt.scatter(ex, score)\n",
    "plt.title('Inertia Plot - Elbow')\n",
    "plt.xlabel('Means (Clusters)')\n",
    "plt.ylabel('Inertia')"
   ]
  },
  {
   "cell_type": "markdown",
   "metadata": {},
   "source": [
    "# ^so lets' say that our elbow happens at around 5 means"
   ]
  },
  {
   "cell_type": "code",
   "execution_count": 43,
   "metadata": {},
   "outputs": [
    {
     "data": {
      "text/plain": [
       "Counter({1: 255, 0: 395, 3: 203, 2: 42, 4: 10})"
      ]
     },
     "execution_count": 43,
     "metadata": {},
     "output_type": "execute_result"
    }
   ],
   "source": [
    "from collections import Counter\n",
    "### fitting a k=5 KMEAN model.\n",
    "five_means = KMeans(5, random_state=11)\n",
    "\n",
    "five_means.fit(X_train, y_train)\n",
    "labels = five_means.labels_\n",
    "Counter(labels)"
   ]
  },
  {
   "cell_type": "code",
   "execution_count": 11,
   "metadata": {},
   "outputs": [],
   "source": [
    "# Checking if these are normal as an anova assumes this.\n",
    "\n",
    "from matplotlib import pyplot as plt\n",
    "\n",
    "my_zip = list(zip(labels, y_train))\n",
    "my_zip\n",
    "\n",
    "jp_zero = [i[1] for i in my_zip if i[0]==0]\n",
    "jp_one = [i[1] for i in my_zip if i[0]==1]\n",
    "jp_two = [i[1] for i in my_zip if i[0]==2]\n",
    "jp_three = [i[1] for i in my_zip if i[0]==3]\n",
    "jp_four = [i[1] for i in my_zip if i[0]==4]\n",
    "\n",
    "###So they're not normal but after the huge bars at zero, the distribution is relatively smooth.\n"
   ]
  },
  {
   "cell_type": "markdown",
   "metadata": {},
   "source": [
    "## ^ The question is whether our model has found groups that produce different groups in terms of refugee generation."
   ]
  },
  {
   "cell_type": "code",
   "execution_count": 28,
   "metadata": {},
   "outputs": [
    {
     "data": {
      "text/plain": [
       "[1.0731707317073171,\n",
       " 595.8015564202335,\n",
       " 324.63037974683544,\n",
       " 5.178217821782178,\n",
       " 26.3]"
      ]
     },
     "execution_count": 28,
     "metadata": {},
     "output_type": "execute_result"
    }
   ],
   "source": [
    "\n",
    "sums = y_train\n",
    "zipped = zip(labels, sums)\n",
    "\n",
    "os = []\n",
    "ones = []\n",
    "twos = []\n",
    "threes = []\n",
    "fours = []\n",
    "\n",
    "\n",
    "for i,j in zipped:\n",
    "    if i==0:\n",
    "        os.append(j)\n",
    "    if i==1:\n",
    "        ones.append(j)\n",
    "    if i==2:\n",
    "        twos.append(j)\n",
    "    if i==3:\n",
    "        threes.append(j)\n",
    "    if i==4:\n",
    "        fours.append(j)\n",
    "\n",
    "means = []\n",
    "\n",
    "for i in [os,ones,twos,threes, fours]:\n",
    "    mean = np.mean(i)\n",
    "    means.append(mean)\n",
    "means"
   ]
  },
  {
   "cell_type": "markdown",
   "metadata": {},
   "source": [
    "## So the means look different... But we'll use an Anova to determine whether they're different in formal sense."
   ]
  },
  {
   "cell_type": "code",
   "execution_count": 13,
   "metadata": {},
   "outputs": [
    {
     "data": {
      "text/plain": [
       "F_onewayResult(statistic=3.309359364626675, pvalue=0.010539974744881494)"
      ]
     },
     "execution_count": 13,
     "metadata": {},
     "output_type": "execute_result"
    }
   ],
   "source": [
    "from scipy.stats import ttest_ind, f_oneway\n",
    "\n",
    "f_oneway(os,ones,twos,threes, fours)"
   ]
  },
  {
   "cell_type": "markdown",
   "metadata": {},
   "source": [
    "## but the ones groups is pretty small and would throw a t-test with any of the other groups... let's take a look at what they are?"
   ]
  },
  {
   "cell_type": "code",
   "execution_count": 45,
   "metadata": {},
   "outputs": [],
   "source": [
    "df_twos = dataset.loc[fours]"
   ]
  },
  {
   "cell_type": "code",
   "execution_count": 46,
   "metadata": {},
   "outputs": [],
   "source": [
    "df_twos_means = df_twos.mean()\n",
    "df_dataset_means = dataset.mean()"
   ]
  },
  {
   "cell_type": "code",
   "execution_count": 47,
   "metadata": {},
   "outputs": [
    {
     "name": "stdout",
     "output_type": "stream",
     "text": [
      "Demography4 Population, ages 1564 (millions) 105.0 26.0\n",
      "Demography5 Population, ages 65 and older (millions) 12.0 3.0\n",
      "Demography6 Population, total (millions) 142.0 39.0\n",
      "Demography7 Population, under age 5 (millions) 9.0 4.0\n",
      "Demography8 Population, urban (%) 59.0 56.0\n",
      "Education2 Expected years of schooling (years) 14.0 13.0\n",
      "Education3 Education Index 1.0 1.0\n",
      "Education9 Mean years of schooling (years) 9.0 8.0\n",
      "Environment3 Forest area (% of total land area) 17.0 32.0\n",
      "Equality11 Inequality-adjusted life expectancy index 1.0 1.0\n",
      "Equality7 Inequality in life expectancy (%) 16.0 18.0\n",
      "Gender1 Adolescent birth rate (births per 1,000 women ages 15-19) 31.0 51.0\n",
      "Gender11 Labour force participation rate, female (% ages 15 and older) 52.0 53.0\n",
      "Gender12 Labour force participation rate, male (% ages 15 and older) 72.0 74.0\n",
      "Gender14 Life expectancy at birth, female (years) 77.0 73.0\n",
      "Gender15 Life expectancy at birth, male (years) 71.0 68.0\n",
      "Gender16 Maternal mortality ratio (deaths per 100,000 live births) 125.0 177.0\n",
      "Gender17 Mean years of schooling, female (years) 8.0 8.0\n",
      "Gender18 Mean years of schooling, male (years) 9.0 9.0\n",
      "Gender2 Estimated gross national income per capita, female (2011 PPP$) 10054.0 11593.0\n",
      "Gender21 Share of seats in parliament (% held by women) 21.0 20.0\n",
      "Gender22 Unemployment rate (total), female to male ratio 1.0 1.0\n",
      "Gender23 Youth unemployment rate, female to male ratio 1.0 1.0\n",
      "Gender3 Estimated gross national income per capita, male (2011 PPP$) 18123.0 20978.0\n",
      "Gender4 Expected years of schooling, female (years) 14.0 13.0\n",
      "Gender5 Expected years of schooling, male (years) 14.0 13.0\n",
      "Health10 Life expectancy Index 1.0 1.0\n",
      "Health13 Under-five mortality rate (per 1,000 live births) 22.0 35.0\n",
      "Health6 Infant mortality rate (per 1,000 live births) 17.0 26.0\n",
      "Health9 Life expectancy at birth (years) 74.0 71.0\n",
      "Income5 Gross domestic product (GDP) per capita (2011 PPP $) 14036.0 17295.0\n",
      "Income6 Gross domestic product (GDP), total (2011 PPP $ billions) 1477.0 563.0\n",
      "Income8 Gross national income (GNI) per capita (2011 PPP$) 14417.0 16337.0\n",
      "Income9 Income Index 1.0 1.0\n",
      "Mobility3 Internet users (% of population) 43.0 40.0\n",
      "Mobility4 Mobile phone subscriptions (per 100 people) 108.0 101.0\n",
      "Trade4 Foreign direct investment, net inflows (% of GDP) 5.0 5.0\n",
      "Work4 Employment to population ratio (% ages 15 and older) 57.0 58.0\n",
      "Work5 Labour force participation rate (% ages 15 and older) 62.0 64.0\n",
      "Work8 Total unemployment rate (% of labour force) 9.0 9.0\n"
     ]
    },
    {
     "ename": "KeyError",
     "evalue": "'year'",
     "output_type": "error",
     "traceback": [
      "\u001b[0;31m---------------------------------------------------------------------------\u001b[0m",
      "\u001b[0;31mKeyError\u001b[0m                                  Traceback (most recent call last)",
      "\u001b[0;32m<ipython-input-47-e10ddd9defc3>\u001b[0m in \u001b[0;36m<module>\u001b[0;34m()\u001b[0m\n\u001b[1;32m      1\u001b[0m \u001b[0;32mfor\u001b[0m \u001b[0mcolumn\u001b[0m \u001b[0;32min\u001b[0m \u001b[0mdataset\u001b[0m\u001b[0;34m.\u001b[0m\u001b[0mcolumns\u001b[0m\u001b[0;34m[\u001b[0m\u001b[0;36m1\u001b[0m\u001b[0;34m:\u001b[0m\u001b[0;34m]\u001b[0m\u001b[0;34m:\u001b[0m\u001b[0;34m\u001b[0m\u001b[0m\n\u001b[0;32m----> 2\u001b[0;31m     \u001b[0mprint\u001b[0m\u001b[0;34m(\u001b[0m\u001b[0mcolumn\u001b[0m\u001b[0;34m,\u001b[0m \u001b[0mtitles\u001b[0m\u001b[0;34m[\u001b[0m\u001b[0mcolumn\u001b[0m\u001b[0;34m]\u001b[0m\u001b[0;34m,\u001b[0m \u001b[0mround\u001b[0m\u001b[0;34m(\u001b[0m\u001b[0mdf_twos_means\u001b[0m\u001b[0;34m[\u001b[0m\u001b[0mcolumn\u001b[0m\u001b[0;34m]\u001b[0m\u001b[0;34m)\u001b[0m\u001b[0;34m,\u001b[0m \u001b[0mround\u001b[0m\u001b[0;34m(\u001b[0m\u001b[0mdf_dataset_means\u001b[0m\u001b[0;34m[\u001b[0m\u001b[0mcolumn\u001b[0m\u001b[0;34m]\u001b[0m\u001b[0;34m)\u001b[0m\u001b[0;34m)\u001b[0m\u001b[0;34m\u001b[0m\u001b[0m\n\u001b[0m",
      "\u001b[0;31mKeyError\u001b[0m: 'year'"
     ]
    }
   ],
   "source": [
    "for column in dataset.columns[1:]:\n",
    "    print(column, titles[column], round(df_twos_means[column]), round(df_dataset_means[column]))"
   ]
  },
  {
   "cell_type": "code",
   "execution_count": 49,
   "metadata": {},
   "outputs": [
    {
     "data": {
      "text/html": [
       "<div>\n",
       "<style scoped>\n",
       "    .dataframe tbody tr th:only-of-type {\n",
       "        vertical-align: middle;\n",
       "    }\n",
       "\n",
       "    .dataframe tbody tr th {\n",
       "        vertical-align: top;\n",
       "    }\n",
       "\n",
       "    .dataframe thead th {\n",
       "        text-align: right;\n",
       "    }\n",
       "</style>\n",
       "<table border=\"1\" class=\"dataframe\">\n",
       "  <thead>\n",
       "    <tr style=\"text-align: right;\">\n",
       "      <th></th>\n",
       "      <th>Gender1</th>\n",
       "      <th>Gender16</th>\n",
       "      <th>Country</th>\n",
       "    </tr>\n",
       "  </thead>\n",
       "  <tbody>\n",
       "    <tr>\n",
       "      <th>34.0</th>\n",
       "      <td>7.7</td>\n",
       "      <td>33.00000</td>\n",
       "      <td>China</td>\n",
       "    </tr>\n",
       "    <tr>\n",
       "      <th>6.0</th>\n",
       "      <td>27.0</td>\n",
       "      <td>31.00000</td>\n",
       "      <td>Armenia</td>\n",
       "    </tr>\n",
       "    <tr>\n",
       "      <th>45.0</th>\n",
       "      <td>5.5</td>\n",
       "      <td>8.00000</td>\n",
       "      <td>Denmark</td>\n",
       "    </tr>\n",
       "    <tr>\n",
       "      <th>1.0</th>\n",
       "      <td>19.2</td>\n",
       "      <td>30.00000</td>\n",
       "      <td>Albania</td>\n",
       "    </tr>\n",
       "    <tr>\n",
       "      <th>91.0</th>\n",
       "      <td>12.5</td>\n",
       "      <td>18.00000</td>\n",
       "      <td>Lebanon</td>\n",
       "    </tr>\n",
       "    <tr>\n",
       "      <th>5.0</th>\n",
       "      <td>61.2</td>\n",
       "      <td>56.00000</td>\n",
       "      <td>Argentina</td>\n",
       "    </tr>\n",
       "    <tr>\n",
       "      <th>50.0</th>\n",
       "      <td>74.4</td>\n",
       "      <td>60.00000</td>\n",
       "      <td>El Salvador</td>\n",
       "    </tr>\n",
       "    <tr>\n",
       "      <th>4.0</th>\n",
       "      <td>53.3</td>\n",
       "      <td>187.22905</td>\n",
       "      <td>Antigua and Barbuda</td>\n",
       "    </tr>\n",
       "    <tr>\n",
       "      <th>26.0</th>\n",
       "      <td>32.5</td>\n",
       "      <td>796.00000</td>\n",
       "      <td>Burundi</td>\n",
       "    </tr>\n",
       "    <tr>\n",
       "      <th>1.0</th>\n",
       "      <td>19.2</td>\n",
       "      <td>30.00000</td>\n",
       "      <td>Albania</td>\n",
       "    </tr>\n",
       "  </tbody>\n",
       "</table>\n",
       "</div>"
      ],
      "text/plain": [
       "      Gender1   Gender16              Country\n",
       "34.0      7.7   33.00000                China\n",
       "6.0      27.0   31.00000              Armenia\n",
       "45.0      5.5    8.00000              Denmark\n",
       "1.0      19.2   30.00000              Albania\n",
       "91.0     12.5   18.00000              Lebanon\n",
       "5.0      61.2   56.00000            Argentina\n",
       "50.0     74.4   60.00000          El Salvador\n",
       "4.0      53.3  187.22905  Antigua and Barbuda\n",
       "26.0     32.5  796.00000              Burundi\n",
       "1.0      19.2   30.00000              Albania"
      ]
     },
     "execution_count": 49,
     "metadata": {},
     "output_type": "execute_result"
    }
   ],
   "source": [
    "dataset.loc[fours,[\"Gender1\",'Gender16', 'Country']]"
   ]
  },
  {
   "cell_type": "markdown",
   "metadata": {},
   "source": [
    "## If we look at the countries that land in the 'fours' cluster and compare the mean for each dependent variable against the mean of the whole dataset, we learn that:\n",
    "\n",
    "1. The frequency of adolescent birth rates is much lower, and;\n",
    "2. The maternal mortality on birth is much lower. \n",
    "\n",
    "SO that's what characterizes this group for"
   ]
  }
 ],
 "metadata": {
  "kernelspec": {
   "display_name": "Python 3",
   "language": "python",
   "name": "python3"
  },
  "language_info": {
   "codemirror_mode": {
    "name": "ipython",
    "version": 3
   },
   "file_extension": ".py",
   "mimetype": "text/x-python",
   "name": "python",
   "nbconvert_exporter": "python",
   "pygments_lexer": "ipython3",
   "version": "3.6.5"
  }
 },
 "nbformat": 4,
 "nbformat_minor": 2
}
