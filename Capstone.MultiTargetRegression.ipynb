{
 "cells": [
  {
   "cell_type": "markdown",
   "metadata": {},
   "source": [
    "# Multi Target Regression\n",
    "\n",
    "### Objective: To predict the volume of refugees arriving at each state for each origin country\n",
    "\n",
    "\n",
    "We're going to fit a linear model w. regularization, random forest regression and gradient boost regression to the multi-target problem. "
   ]
  },
  {
   "cell_type": "code",
   "execution_count": 6,
   "metadata": {},
   "outputs": [],
   "source": [
    "import pandas as pd\n",
    "from numpy import log1p\n",
    "dataset = pd.read_csv('/Users/joel/Documents/Brainstation/Tablaeu/CLEANDATA/clean_merged_all.csv').drop('Unnamed: 0', axis=1)\n",
    "refugees = pd.read_csv('/Users/joel/Documents/Brainstation/Tablaeu/immigrantbyorigin.csv')\n",
    "import warnings\n",
    "warnings.filterwarnings('ignore')"
   ]
  },
  {
   "cell_type": "code",
   "execution_count": 2,
   "metadata": {},
   "outputs": [],
   "source": [
    "### Getting titles for each heading:\n",
    "\n",
    "fields = []\n",
    "\n",
    "for i,j in enumerate(dataset.columns):\n",
    "    if i>=1 and i<=40:\n",
    "        fields.append(j)\n",
    "        \n",
    "titles = {}\n",
    "\n",
    "for field in fields:\n",
    "            path = '/Users/joel/Documents/Brainstation/Tablaeu/UNINFO/'+field+'.csv'\n",
    "            file = pd.read_csv(path, encoding='ISO-8859-1')\n",
    "            \n",
    "            heading = field\n",
    "            title = file.columns[-1]\n",
    "\n",
    "            titles[heading] = title"
   ]
  },
  {
   "cell_type": "code",
   "execution_count": 3,
   "metadata": {},
   "outputs": [],
   "source": [
    "### Adding the sum of all arrivals to dataset\n",
    "\n",
    "sums = []\n",
    "\n",
    "for index in dataset.index:\n",
    "    sums.append(dataset.loc[index,'Alabama':].sum(0))\n",
    "    \n",
    "dataset['sum_destination'] = sums"
   ]
  },
  {
   "cell_type": "code",
   "execution_count": 4,
   "metadata": {},
   "outputs": [],
   "source": [
    "import numpy as np\n",
    "\n",
    "### We'll be testing 2015 data. So first split the set by year = 2015\n",
    "\n",
    "df_fifteen = dataset.loc[dataset['year'] == 2015]\n",
    "df_else = dataset.loc[dataset['year'] != 2015]\n",
    "\n",
    "### Now split these sets into dependent and independent variables\n",
    "\n",
    "X_test = df_fifteen.loc[:,'Demography4':'Work8']\n",
    "X_train = df_else.loc[:,'Demography4':'Work8']\n",
    "y_test = df_fifteen.loc[:,'Alabama':'Wisconsin']\n",
    "y_train = df_else.loc[:,'Alabama':'Wisconsin']"
   ]
  },
  {
   "cell_type": "code",
   "execution_count": 7,
   "metadata": {},
   "outputs": [],
   "source": [
    "### Importing stuff for our pipeline/gridsearch\n",
    "\n",
    "from sklearn.preprocessing import StandardScaler\n",
    "from sklearn.decomposition import PCA\n",
    "from sklearn.ensemble import AdaBoostRegressor, GradientBoostingRegressor, RandomForestRegressor\n",
    "from sklearn.pipeline import Pipeline\n",
    "from sklearn.grid_search import GridSearchCV\n",
    "from sklearn.multioutput import MultiOutputRegressor\n"
   ]
  },
  {
   "cell_type": "markdown",
   "metadata": {},
   "source": [
    "# Fitting/Tuning a Gradient Boost Regressor"
   ]
  },
  {
   "cell_type": "code",
   "execution_count": 8,
   "metadata": {},
   "outputs": [],
   "source": [
    "###Making a pipeline\n",
    "\n",
    "estimators = [\n",
    "\n",
    "#     ('scale',StandardScaler()),\n",
    "    ('decompose', PCA()),\n",
    "    ('model', MultiOutputRegressor(GradientBoostingRegressor()))\n",
    "]\n",
    "\n",
    "pipe = Pipeline(estimators)"
   ]
  },
  {
   "cell_type": "code",
   "execution_count": 8,
   "metadata": {},
   "outputs": [],
   "source": [
    "### Making the gridsearch\n",
    "\n",
    "params = {'decompose__n_components':[10,20,30,40], \n",
    "          'model__estimator__n_estimators':[100,150,200],\n",
    "         'model__estimator__learning_rate':[0.1,0.3,0.5],\n",
    "         'model__estimator__max_depth':[3,5,7]}\n",
    "\n",
    "grid_search = GridSearchCV(estimator=pipe, param_grid=params, cv = 5)"
   ]
  },
  {
   "cell_type": "code",
   "execution_count": 9,
   "metadata": {},
   "outputs": [],
   "source": [
    "fitted = grid_search.fit(X_train, y_train)"
   ]
  },
  {
   "cell_type": "code",
   "execution_count": 190,
   "metadata": {},
   "outputs": [],
   "source": [
    "gb_score = fitted.score(X_test, y_test)"
   ]
  },
  {
   "cell_type": "code",
   "execution_count": null,
   "metadata": {},
   "outputs": [],
   "source": [
    "print(fitted.best_estimator_.steps)"
   ]
  },
  {
   "cell_type": "markdown",
   "metadata": {},
   "source": [
    "# FITTING /TUNING a random forest regressor"
   ]
  },
  {
   "cell_type": "code",
   "execution_count": 70,
   "metadata": {},
   "outputs": [],
   "source": [
    "from sklearn.linear_model import LinearRegression\n",
    "\n",
    "rf_estimators = [\n",
    "    ('scale' , StandardScaler()),\n",
    "    ('model' , MultiOutputRegressor(RandomForestRegressor()))\n",
    "]\n",
    "\n",
    "rf_pipe = Pipeline(rf_estimators)"
   ]
  },
  {
   "cell_type": "code",
   "execution_count": 235,
   "metadata": {},
   "outputs": [],
   "source": [
    "from scipy.special import boxcox1p\n",
    "\n",
    "rf_params ={\n",
    "    'model__estimator__n_estimators':[10,20,30,40,50]\n",
    "}\n",
    "\n",
    "rf_grid = GridSearchCV(estimator=rf_pipe, param_grid=rf_params, cv=5).fit(X_train,y_train)\n",
    "rf_grid_box = GridSearchCV(estimator=rf_pipe, param_grid=rf_params, cv=5).fit(X_train,boxcox1p(y_train,-.3))"
   ]
  },
  {
   "cell_type": "code",
   "execution_count": 236,
   "metadata": {},
   "outputs": [],
   "source": [
    "from numpy import log1p\n",
    "rf_grid_log = GridSearchCV(estimator=rf_pipe, param_grid=rf_params, cv=5).fit(X_train,y_train.apply(lambda x: log1p(x)))"
   ]
  },
  {
   "cell_type": "code",
   "execution_count": 237,
   "metadata": {},
   "outputs": [],
   "source": [
    "rf_score = rf_grid.score(X_test, y_test)\n",
    "rf_score_grid_box = rf_grid_box.score(X_test, boxcox1p(y_test,-.3))\n",
    "rf_score_grid_log = rf_grid_log.score(X_test, log1p(y_test))"
   ]
  },
  {
   "cell_type": "code",
   "execution_count": 250,
   "metadata": {},
   "outputs": [
    {
     "name": "stdout",
     "output_type": "stream",
     "text": [
      "rf_score: 0.14299828532287312\n",
      "rf_score_grid_box: 0.5273245347442004\n",
      "rf_log_score: 0.5117754435891951\n"
     ]
    }
   ],
   "source": [
    "for each_score in [[rf_score, 'rf_score'], [rf_score_grid_box,'rf_score_grid_box'],[rf_score_grid_log, 'rf_log_score']]:\n",
    "    print(each_score[1]+\": \"+str(each_score[0]))"
   ]
  },
  {
   "cell_type": "code",
   "execution_count": null,
   "metadata": {},
   "outputs": [],
   "source": [
    "### PLOT OF RESIDUALS WITHOUT TRANSFORMATION"
   ]
  },
  {
   "cell_type": "code",
   "execution_count": 290,
   "metadata": {},
   "outputs": [
    {
     "data": {
      "text/plain": [
       "Text(0,0.5,'residual')"
      ]
     },
     "execution_count": 290,
     "metadata": {},
     "output_type": "execute_result"
    },
    {
     "data": {
      "image/png": "[encoded data removed]",
      "text/plain": [
       "<Figure size 432x288 with 1 Axes>"
      ]
     },
     "metadata": {},
     "output_type": "display_data"
    }
   ],
   "source": [
    "import matplotlib.pyplot as plt\n",
    "\n",
    "plt.scatter(rf_grid.predict(X_test), rf_grid.predict(X_test) - y_test)\n",
    "plt.hlines(0,0,2500)\n",
    "plt.title('RF Multi Target Residuals')\n",
    "plt.xlabel('y_pred')\n",
    "plt.ylabel('residual')"
   ]
  },
  {
   "cell_type": "code",
   "execution_count": 253,
   "metadata": {},
   "outputs": [],
   "source": [
    "### PLOT OF RESIDUALS WITH LOG TRANSFORMATION"
   ]
  },
  {
   "cell_type": "code",
   "execution_count": 256,
   "metadata": {},
   "outputs": [
    {
     "data": {
      "text/plain": [
       "Text(0,0.5,'residual')"
      ]
     },
     "execution_count": 256,
     "metadata": {},
     "output_type": "execute_result"
    },
    {
     "data": {
      "image/png": "[encoded data removed]",
      "text/plain": [
       "<Figure size 432x288 with 1 Axes>"
      ]
     },
     "metadata": {},
     "output_type": "display_data"
    }
   ],
   "source": [
    "import matplotlib.pyplot as plt\n",
    "\n",
    "plt.scatter(rf_grid_log.predict(X_test), rf_grid_log.predict(X_test) - log1p(y_test))\n",
    "plt.hlines(0,0,9)\n",
    "plt.title('RF Multi Target Residuals w. Log Transform')\n",
    "plt.xlabel('y_pred')\n",
    "plt.ylabel('residual')"
   ]
  },
  {
   "cell_type": "markdown",
   "metadata": {},
   "source": [
    "# Fitting a Ridge Regression"
   ]
  },
  {
   "cell_type": "code",
   "execution_count": 89,
   "metadata": {},
   "outputs": [],
   "source": [
    "from sklearn.linear_model import Ridge"
   ]
  },
  {
   "cell_type": "code",
   "execution_count": 158,
   "metadata": {},
   "outputs": [],
   "source": [
    "ridge_estimators = [\n",
    "    ('scale',StandardScaler()),\n",
    "    ('model',Ridge())\n",
    "]\n",
    "\n",
    "ridge_pipe = Pipeline(ridge_estimators)\n",
    "\n",
    "ridge_params = {\n",
    "    'model__alpha':[.1,.2,.3,.4,.5,.6,.7,.8,.9,1.0,2.0],\n",
    "    'model__solver':['saga']\n",
    "}\n",
    "\n",
    "ridge_grid = GridSearchCV(estimator = ridge_pipe, param_grid=ridge_params, cv=5)"
   ]
  },
  {
   "cell_type": "code",
   "execution_count": 159,
   "metadata": {},
   "outputs": [
    {
     "data": {
      "text/plain": [
       "GridSearchCV(cv=5, error_score='raise',\n",
       "       estimator=Pipeline(memory=None,\n",
       "     steps=[('scale', StandardScaler(copy=True, with_mean=True, with_std=True)), ('model', Ridge(alpha=1.0, copy_X=True, fit_intercept=True, max_iter=None,\n",
       "   normalize=False, random_state=None, solver='auto', tol=0.001))]),\n",
       "       fit_params={}, iid=True, n_jobs=1,\n",
       "       param_grid={'model__alpha': [0.1, 0.2, 0.3, 0.4, 0.5, 0.6, 0.7, 0.8, 0.9, 1.0, 2.0], 'model__solver': ['saga']},\n",
       "       pre_dispatch='2*n_jobs', refit=True, scoring=None, verbose=0)"
      ]
     },
     "execution_count": 159,
     "metadata": {},
     "output_type": "execute_result"
    }
   ],
   "source": [
    "ridge_grid.fit(X_train, y_train)"
   ]
  },
  {
   "cell_type": "code",
   "execution_count": 160,
   "metadata": {},
   "outputs": [
    {
     "data": {
      "text/plain": [
       "Pipeline(memory=None,\n",
       "     steps=[('scale', StandardScaler(copy=True, with_mean=True, with_std=True)), ('model', Ridge(alpha=1.0, copy_X=True, fit_intercept=True, max_iter=None,\n",
       "   normalize=False, random_state=None, solver='saga', tol=0.001))])"
      ]
     },
     "execution_count": 160,
     "metadata": {},
     "output_type": "execute_result"
    }
   ],
   "source": [
    "ridge_grid.best_estimator_"
   ]
  },
  {
   "cell_type": "code",
   "execution_count": 189,
   "metadata": {},
   "outputs": [],
   "source": [
    "ridge_score = ridge_grid.score(X_test, y_test)"
   ]
  },
  {
   "cell_type": "markdown",
   "metadata": {},
   "source": [
    "# Fitting a Lasso Regression"
   ]
  },
  {
   "cell_type": "code",
   "execution_count": 169,
   "metadata": {},
   "outputs": [],
   "source": [
    "from sklearn.linear_model import Lasso\n",
    "\n",
    "lasso_estimators = [\n",
    "    ('scale',StandardScaler()),\n",
    "    ('model', Lasso())\n",
    "]\n",
    "\n",
    "lasso_pipe = Pipeline(lasso_estimators)\n",
    "\n",
    "lasso_params = {\n",
    "    'model__alpha':[.1,.2,.3,.4,.5,.6,.7,.8,.9,1]\n",
    "}\n",
    "\n",
    "lasso_grid = GridSearchCV(estimator=lasso_pipe,param_grid=lasso_params, cv=5)"
   ]
  },
  {
   "cell_type": "code",
   "execution_count": 267,
   "metadata": {},
   "outputs": [
    {
     "data": {
      "text/plain": [
       "GridSearchCV(cv=5, error_score='raise',\n",
       "       estimator=Pipeline(memory=None,\n",
       "     steps=[('scale', StandardScaler(copy=True, with_mean=True, with_std=True)), ('model', Lasso(alpha=1.0, copy_X=True, fit_intercept=True, max_iter=1000,\n",
       "   normalize=False, positive=False, precompute=False, random_state=None,\n",
       "   selection='cyclic', tol=0.0001, warm_start=False))]),\n",
       "       fit_params={}, iid=True, n_jobs=1,\n",
       "       param_grid={'model__alpha': [0.1, 0.2, 0.3, 0.4, 0.5, 0.6, 0.7, 0.8, 0.9, 1]},\n",
       "       pre_dispatch='2*n_jobs', refit=True, scoring=None, verbose=0)"
      ]
     },
     "execution_count": 267,
     "metadata": {},
     "output_type": "execute_result"
    }
   ],
   "source": [
    "lasso_grid.fit(X_train, y_train)"
   ]
  },
  {
   "cell_type": "code",
   "execution_count": 262,
   "metadata": {},
   "outputs": [],
   "source": [
    "lasso_score = lasso_grid.score(X_test, y_test)"
   ]
  },
  {
   "cell_type": "code",
   "execution_count": 332,
   "metadata": {},
   "outputs": [
    {
     "name": "stdout",
     "output_type": "stream",
     "text": [
      "-0.7672293638565129\n",
      "0.14299828532287312\n",
      "0.0936315159981099\n",
      "0.0880017040369601\n"
     ]
    }
   ],
   "source": [
    "all_scores = [gb_score, rf_score, ridge_score, lasso_score]\n",
    "\n",
    "for score in all_scores:\n",
    "    print(score)"
   ]
  },
  {
   "cell_type": "markdown",
   "metadata": {},
   "source": [
    "# ^ These are the R2s before any transformations... not very strong results. We see (as demonstrated in the RandomForest Regressor section) that the residuals get a bit better when we perform a transformation on the dependent variable. "
   ]
  }
 ],
 "metadata": {
  "kernelspec": {
   "display_name": "Python 3",
   "language": "python",
   "name": "python3"
  },
  "language_info": {
   "codemirror_mode": {
    "name": "ipython",
    "version": 3
   },
   "file_extension": ".py",
   "mimetype": "text/x-python",
   "name": "python",
   "nbconvert_exporter": "python",
   "pygments_lexer": "ipython3",
   "version": "3.6.5"
  }
 },
 "nbformat": 4,
 "nbformat_minor": 2
}
