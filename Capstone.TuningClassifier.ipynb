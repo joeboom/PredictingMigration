{
 "cells": [
  {
   "cell_type": "markdown",
   "metadata": {},
   "source": [
    "# Classifying Refugee Generating Countries\n",
    "### Objective: Build model to predict whether a country will or will not gerenate refugees."
   ]
  },
  {
   "cell_type": "code",
   "execution_count": 1,
   "metadata": {},
   "outputs": [],
   "source": [
    "import pandas as pd\n",
    "\n",
    "dataset = pd.read_csv('/Users/joel/Documents/Brainstation/Tablaeu/CLEANDATA/clean_merged_all.csv').drop('Unnamed: 0', axis=1)\n",
    "refugees = pd.read_csv('/Users/joel/Documents/Brainstation/Tablaeu/immigrantbyorigin.csv')"
   ]
  },
  {
   "cell_type": "code",
   "execution_count": 15,
   "metadata": {},
   "outputs": [
    {
     "data": {
      "text/plain": [
       "{'Demography4': 'Population, ages 15\\x9664 (millions)',\n",
       " 'Demography5': 'Population, ages 65 and older (millions)',\n",
       " 'Demography6': 'Population, total (millions)',\n",
       " 'Demography7': 'Population, under age 5 (millions)',\n",
       " 'Demography8': 'Population, urban (%)',\n",
       " 'Education2': 'Expected years of schooling (years)',\n",
       " 'Education3': 'Education Index',\n",
       " 'Education9': 'Mean years of schooling (years)',\n",
       " 'Environment3': 'Forest area (% of total land area)',\n",
       " 'Equality11': 'Inequality-adjusted life expectancy index',\n",
       " 'Equality7': 'Inequality in life expectancy (%)',\n",
       " 'Gender1': 'Adolescent birth rate (births per 1,000 women ages 15-19)',\n",
       " 'Gender11': 'Labour force participation rate, female (% ages 15 and older)',\n",
       " 'Gender12': 'Labour force participation rate, male (% ages 15 and older)',\n",
       " 'Gender14': 'Life expectancy at birth, female (years)',\n",
       " 'Gender15': 'Life expectancy at birth, male (years)',\n",
       " 'Gender16': 'Maternal mortality ratio (deaths per 100,000 live births)',\n",
       " 'Gender17': 'Mean years of schooling, female (years)',\n",
       " 'Gender18': 'Mean years of schooling, male (years)',\n",
       " 'Gender2': 'Estimated gross national income per capita, female (2011 PPP$)',\n",
       " 'Gender21': 'Share of seats in parliament (% held by women)',\n",
       " 'Gender22': 'Unemployment rate (total), female to male ratio',\n",
       " 'Gender23': 'Youth unemployment rate, female to male ratio',\n",
       " 'Gender3': 'Estimated gross national income per capita, male (2011 PPP$)',\n",
       " 'Gender4': 'Expected years of schooling, female (years)',\n",
       " 'Gender5': 'Expected years of schooling, male (years)',\n",
       " 'Health10': 'Life expectancy Index',\n",
       " 'Health13': 'Under-five mortality rate (per 1,000 live births)',\n",
       " 'Health6': 'Infant mortality rate (per 1,000 live births)',\n",
       " 'Health9': 'Life expectancy at birth (years)',\n",
       " 'Income5': 'Gross domestic product (GDP) per capita (2011 PPP $)',\n",
       " 'Income6': 'Gross domestic product (GDP), total (2011 PPP $ billions)',\n",
       " 'Income8': 'Gross national income (GNI) per capita (2011 PPP$)',\n",
       " 'Income9': 'Income Index',\n",
       " 'Mobility3': 'Internet users (% of population)',\n",
       " 'Mobility4': 'Mobile phone subscriptions (per 100 people)',\n",
       " 'Trade4': 'Foreign direct investment, net inflows (% of GDP)',\n",
       " 'Work4': 'Employment to population ratio (% ages 15 and older)',\n",
       " 'Work5': 'Labour force participation rate (% ages 15 and older)',\n",
       " 'Work8': 'Total unemployment rate (% of labour force)'}"
      ]
     },
     "execution_count": 15,
     "metadata": {},
     "output_type": "execute_result"
    }
   ],
   "source": [
    "### Getting titles for each heading:\n",
    "\n",
    "fields = []\n",
    "\n",
    "for i,j in enumerate(dataset.columns):\n",
    "    if i>=1 and i<=40:\n",
    "        fields.append(j)\n",
    "        \n",
    "titles = {}\n",
    "\n",
    "for field in fields:\n",
    "            path = '/Users/joel/Documents/Brainstation/Tablaeu/UNINFO/'+field+'.csv'\n",
    "            file = pd.read_csv(path, encoding='ISO-8859-1')\n",
    "            \n",
    "            heading = field\n",
    "            title = file.columns[-1]\n",
    "\n",
    "            titles[heading] = title\n",
    "titles"
   ]
  },
  {
   "cell_type": "code",
   "execution_count": 3,
   "metadata": {},
   "outputs": [],
   "source": [
    "### Adding the sum of all arrivals to dataset\n",
    "\n",
    "sums = []\n",
    "\n",
    "for index in dataset.index:\n",
    "    sums.append(dataset.loc[index,'Alabama':].sum(0))\n",
    "    \n",
    "dataset['sum_destination'] = sums"
   ]
  },
  {
   "cell_type": "code",
   "execution_count": 4,
   "metadata": {},
   "outputs": [],
   "source": [
    "###adding classes to data to denote refugee generating countries (and non-refugee generating countries)\n",
    "\n",
    "classes = []\n",
    "\n",
    "for index in dataset.index:\n",
    "    if dataset.loc[index,'sum_destination']>0:\n",
    "        classes.append(1)\n",
    "    else:\n",
    "        classes.append(0)\n",
    "        \n",
    "dataset['classes'] = classes"
   ]
  },
  {
   "cell_type": "code",
   "execution_count": 5,
   "metadata": {},
   "outputs": [],
   "source": [
    "import numpy as np\n",
    "\n",
    "### We'll be validating on 2015 data. So first split the set by year = 2015\n",
    "\n",
    "df_fifteen = dataset.loc[dataset['year'] == 2015]\n",
    "df_else = dataset.loc[dataset['year'] != 2015]\n",
    "\n",
    "### Now split these sets into dependent and independent variables\n",
    "\n",
    "X_test = df_fifteen.loc[:,'Demography4':'Work8']\n",
    "X_train = df_else.loc[:,'Demography4':'Work8']\n",
    "y_test = df_fifteen.loc[:,'classes']\n",
    "y_train = df_else.loc[:,'classes']"
   ]
  },
  {
   "cell_type": "code",
   "execution_count": 6,
   "metadata": {},
   "outputs": [],
   "source": [
    "from sklearn.linear_model import LogisticRegression\n",
    "from sklearn.preprocessing import StandardScaler\n",
    "from sklearn.decomposition import PCA\n",
    "from sklearn.pipeline import Pipeline\n",
    "from sklearn.ensemble import AdaBoostClassifier, GradientBoostingClassifier, RandomForestClassifier"
   ]
  },
  {
   "cell_type": "code",
   "execution_count": 7,
   "metadata": {},
   "outputs": [],
   "source": [
    "### Build pipeline LOGISTIC\n",
    "estimators = [\n",
    "    ('model', RandomForestClassifier(n_estimators=200))\n",
    "]\n",
    "\n",
    "pipe = Pipeline(estimators)"
   ]
  },
  {
   "cell_type": "code",
   "execution_count": 8,
   "metadata": {},
   "outputs": [
    {
     "data": {
      "text/plain": [
       "Pipeline(memory=None,\n",
       "     steps=[('model', RandomForestClassifier(bootstrap=True, class_weight=None, criterion='gini',\n",
       "            max_depth=None, max_features='auto', max_leaf_nodes=None,\n",
       "            min_impurity_decrease=0.0, min_impurity_split=None,\n",
       "            min_samples_leaf=1, min_samples_split=2,\n",
       "            min_weight_fraction_leaf=0.0, n_estimators=200, n_jobs=1,\n",
       "            oob_score=False, random_state=None, verbose=0,\n",
       "            warm_start=False))])"
      ]
     },
     "execution_count": 8,
     "metadata": {},
     "output_type": "execute_result"
    }
   ],
   "source": [
    "### fit pipe\n",
    "\n",
    "pipe.fit(X_train, y_train)"
   ]
  },
  {
   "cell_type": "code",
   "execution_count": 14,
   "metadata": {},
   "outputs": [
    {
     "data": {
      "text/plain": [
       "0.8950276243093923"
      ]
     },
     "execution_count": 14,
     "metadata": {},
     "output_type": "execute_result"
    }
   ],
   "source": [
    "pipe.score(X_test, y_test)"
   ]
  },
  {
   "cell_type": "markdown",
   "metadata": {},
   "source": [
    "### Our model is able to correctly predict whether a country will generate refugees with .9 accuracy using a RandomForest classifier. Though this binary outcome has some relevant application in the real world resettlement process, it's not nearly as useful as knowing exactly how many people from an origin country will resttle to a destination city or state.\n",
    "\n",
    "In our case here, Randomforest outperforms boosting methods"
   ]
  }
 ],
 "metadata": {
  "kernelspec": {
   "display_name": "Python 3",
   "language": "python",
   "name": "python3"
  },
  "language_info": {
   "codemirror_mode": {
    "name": "ipython",
    "version": 3
   },
   "file_extension": ".py",
   "mimetype": "text/x-python",
   "name": "python",
   "nbconvert_exporter": "python",
   "pygments_lexer": "ipython3",
   "version": "3.6.5"
  }
 },
 "nbformat": 4,
 "nbformat_minor": 2
}
