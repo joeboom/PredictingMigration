{
 "cells": [
  {
   "cell_type": "markdown",
   "metadata": {},
   "source": [
    "# Prepping Data\n",
    "\n",
    "### Objective: To prep data for further analysis\n",
    "\n",
    "\n",
    "Our data contains some duplicate information, information which may result in colinearity issues, and missing information. \n",
    "\n",
    "We resolve those issues in the below."
   ]
  },
  {
   "cell_type": "markdown",
   "metadata": {},
   "source": [
    "## Importing the data"
   ]
  },
  {
   "cell_type": "code",
   "execution_count": 2,
   "metadata": {},
   "outputs": [],
   "source": [
    "import pandas as pd"
   ]
  },
  {
   "cell_type": "code",
   "execution_count": 3,
   "metadata": {},
   "outputs": [],
   "source": [
    "### refugee information (inlcuding origin, destination, and year of movement)\n",
    "refugees = pd.read_csv('/Users/joel/Documents/Brainstation/Tablaeu/immigrantbyorigin.csv')"
   ]
  },
  {
   "cell_type": "code",
   "execution_count": 8,
   "metadata": {},
   "outputs": [],
   "source": [
    "###Accessing strings representing each country's name.\n",
    "\n",
    "\n",
    "country_path = '/Users/joel/Documents/Brainstation/Tablaeu/UNINFOKEY/countries.csv'\n",
    "countries = pd.DataFrame(pd.read_csv(country_path)['country'])\n",
    "countries.columns=['Country']"
   ]
  },
  {
   "cell_type": "code",
   "execution_count": 11,
   "metadata": {},
   "outputs": [],
   "source": [
    "### Accessing UN file titles.\n",
    "key_path = '/Users/joel/Documents/Brainstation/Tablaeu/UNINFOKEY/un_info_key.csv'\n",
    "key = pd.DataFrame(pd.read_csv(key_path))"
   ]
  },
  {
   "cell_type": "code",
   "execution_count": 13,
   "metadata": {},
   "outputs": [],
   "source": [
    "### Accessing and collecting the files that will be the dependent variable.\n",
    "\n",
    "files = key['file']\n",
    "bank_of_files = []\n",
    "for file in files:\n",
    "    list_=[]\n",
    "    list_.append(file)\n",
    "    list_.append(pd.read_csv('/Users/joel/Documents/Brainstation/Tablaeu/UNINFO/'+file+'.csv', encoding='ISO-8859-1', header=1))\n",
    "    bank_of_files.append(list_)"
   ]
  },
  {
   "cell_type": "code",
   "execution_count": 6,
   "metadata": {},
   "outputs": [],
   "source": [
    "#make bankv2 - a list containing dataframes that only contain information for the five years ended 2015.\n",
    "\n",
    "bankv2=[]\n",
    "for name_frame_pair in bank_of_files:\n",
    "    name = name_frame_pair[0]\n",
    "    file = name_frame_pair[1]\n",
    "    header = file.columns\n",
    "    eleven = '2011' in header\n",
    "    twelve = '2012' in header\n",
    "    thirteen = '2013' in header\n",
    "    fourteen = '2014' in header\n",
    "    fifteen = '2015' in header\n",
    "    \n",
    "    \n",
    "    if eleven and twelve and thirteen and fourteen and fifteen:\n",
    "        range_ = ['Country','2011','2012','2013','2014','2015']\n",
    "        columns_ = ['Country', '2011 '+name,'2012 '+name,'2013 '+name,'2014 '+name,'2015 '+name ]\n",
    "        list_ = []\n",
    "        list_.append(name)\n",
    "        frame = file.loc[:,range_][0:len(file)-1]\n",
    "        frame.columns = columns_\n",
    "        list_.append(frame)\n",
    "        bankv2.append(list_)"
   ]
  },
  {
   "cell_type": "code",
   "execution_count": 14,
   "metadata": {},
   "outputs": [],
   "source": [
    "#countries to country strings\n",
    "country_strings = countries.applymap(str)\n",
    "\n",
    "for dataset in bankv2:\n",
    "    dataset[1]=dataset[1].applymap(str)\n",
    "    for index, row in dataset[1].iterrows():\n",
    "        row['Country']=row['Country'].strip()"
   ]
  },
  {
   "cell_type": "code",
   "execution_count": 15,
   "metadata": {},
   "outputs": [],
   "source": [
    "#creating a merged DF that contains all tables from the UN\n",
    "merged = countries\n",
    "for dataset in bankv2:\n",
    "    merged = merged.merge(dataset[1], how='left', on='Country')"
   ]
  },
  {
   "cell_type": "code",
   "execution_count": 16,
   "metadata": {},
   "outputs": [],
   "source": [
    "import numpy as np\n",
    "# removing all countries for which there's less than half of the data\n",
    "no_nas=merged.dropna(axis=0, thresh=214)\n",
    "\n",
    "#removing all dimensions for which there's more than 20 nulls\n",
    "no_nas = no_nas.dropna(axis=1, thresh=162)\n",
    "path = '/Users/joel/Documents/Brainstation/Tablaeu/UNOUTS/nullsums.csv'\n",
    "a = pd.DataFrame(no_nas.isnull().sum().sort_values(ascending=False)).loc['2015 Equality8':].index"
   ]
  },
  {
   "cell_type": "code",
   "execution_count": 17,
   "metadata": {},
   "outputs": [],
   "source": [
    "#the columns for which no more than 20 'nans' are included\n",
    "inds = pd.DataFrame(no_nas.isin(['nan']).sum().sort_values(ascending=False)).loc['2013 Income7':,:].index"
   ]
  },
  {
   "cell_type": "code",
   "execution_count": 58,
   "metadata": {},
   "outputs": [],
   "source": [
    "#creating no_nas2 - a DF which is relatively clean (no more than 20 nans or NaNs per column)\n",
    "no_nas2 = no_nas.loc[:,inds]"
   ]
  },
  {
   "cell_type": "code",
   "execution_count": 20,
   "metadata": {},
   "outputs": [],
   "source": [
    "#making no_nas3 - a DF where all residual NaNs and 'nans'\n",
    "def make_int(x):\n",
    "    if x=='nan':\n",
    "        return float(0.123456789)\n",
    "    if x in countries['Country'].tolist():\n",
    "        return x\n",
    "    else:\n",
    "        return float(x)\n",
    "\n",
    "no_nas3 = no_nas2.applymap(make_int)\n",
    "\n",
    "#putting in place of NaN - 0.123456789 which we'll repalce later\n",
    "no_nas4 = no_nas3.fillna(0.123456789)"
   ]
  },
  {
   "cell_type": "code",
   "execution_count": 21,
   "metadata": {},
   "outputs": [],
   "source": [
    "#replace all floats of value 0.123456789 with the mean for the respective values column.\n",
    "\n",
    "for column in no_nas4.columns.tolist():\n",
    "   \n",
    "    sum_=0.0\n",
    "    n_=0.0\n",
    "    mean=0\n",
    "    for index in no_nas4.index:\n",
    "        \n",
    "        if no_nas4.loc[index,column] == 0.123456789:\n",
    "            \n",
    "            pass\n",
    "        elif no_nas4.loc[index,column] in countries['Country'].tolist():\n",
    "            pass\n",
    "        else:\n",
    "            \n",
    "            sum_+=no_nas4.loc[index,column]\n",
    "            n_+=1\n",
    "    \n",
    "    if column == 'Country':\n",
    "        pass\n",
    "    else:\n",
    "        mean +=sum_/n_\n",
    "        \n",
    "    for index in no_nas4.index:\n",
    "        if no_nas4.loc[index,column] == 0.123456789:\n",
    "            no_nas4.loc[index,column]=mean\n",
    "        \n",
    "    "
   ]
  },
  {
   "cell_type": "code",
   "execution_count": 23,
   "metadata": {},
   "outputs": [],
   "source": [
    "#no_nas4 is now a clean dataset with 181 countries and 257 fields\n",
    "\n",
    "#now remove any for which there are not a pair of 5 years of info\n",
    "\n",
    "from collections import Counter\n",
    "\n",
    "list_ = []\n",
    "\n",
    "for i in no_nas4.columns:\n",
    "    list_.append(i[5:])"
   ]
  },
  {
   "cell_type": "code",
   "execution_count": 25,
   "metadata": {},
   "outputs": [],
   "source": [
    "#make no_nas5 which is a clean DF with only fields that have 5 years worth of information\n",
    "to_remove = []\n",
    "for i in no_nas4.columns:\n",
    "    if 'Trade2' in i or 'Income2' in i or 'Work1' in i or 'Trade7' in i or 'Income7' in i or 'Equality5' in i or 'Equality8' in i:\n",
    "        to_remove.append(i)\n",
    "\n",
    "no_nas5 = no_nas4.drop(to_remove, axis=1)"
   ]
  },
  {
   "cell_type": "code",
   "execution_count": 27,
   "metadata": {},
   "outputs": [],
   "source": [
    "#Here's the data\n",
    "refugees = pd.read_csv('/Users/joel/Documents/Brainstation/Tablaeu/REFUGEEDATA/immigrantbyorigin.csv')"
   ]
  },
  {
   "cell_type": "code",
   "execution_count": 29,
   "metadata": {},
   "outputs": [
    {
     "data": {
      "text/plain": [
       "Text(0.5,1,'Annual Refugee Arrivals in USA')"
      ]
     },
     "execution_count": 29,
     "metadata": {},
     "output_type": "execute_result"
    },
    {
     "data": {
      "image/png": "[encoded data removed]",
      "text/plain": [
       "<Figure size 432x288 with 1 Axes>"
      ]
     },
     "metadata": {},
     "output_type": "display_data"
    }
   ],
   "source": [
    "#Using the refugees DF, group by country by year.\n",
    "import numpy as np\n",
    "from pandas import pivot_table\n",
    "from matplotlib import pyplot as plt\n",
    "\n",
    "table = pivot_table(refugees, values='arrivals', index='origin',columns='year', aggfunc=np.sum)\n",
    "table2 = pivot_table(refugees, values = 'arrivals', index = 'dest_city', aggfunc = np.sum)\n",
    "\n",
    "years = []\n",
    "sums_=[]\n",
    "for year in table.columns:\n",
    "    sums_.append(table[year].sum())\n",
    "    years.append(year)\n",
    "\n",
    "plt.plot(years, sums_)\n",
    "plt.xlabel('year')\n",
    "plt.ylabel('Refugees arriving in USA')\n",
    "plt.title('Annual Refugee Arrivals in USA')"
   ]
  },
  {
   "cell_type": "code",
   "execution_count": 30,
   "metadata": {},
   "outputs": [],
   "source": [
    "#no_nas6 has all years but sorted by year\n",
    "list__ = no_nas5.columns\n",
    "list__ = sorted(list__)\n",
    "no_nas6 = no_nas5.loc[:,list__]"
   ]
  },
  {
   "cell_type": "code",
   "execution_count": 33,
   "metadata": {},
   "outputs": [],
   "source": [
    "### We're going to group all headings by year so that we can stack the 2012 variables below the 2011 variables\n",
    "### and the 2013 variables under the 2012 variable. etc. \n",
    "eleven = ['Country']\n",
    "twelve = ['Country']\n",
    "thirteen = ['Country']\n",
    "fourteen = ['Country']\n",
    "fifteen = ['Country']\n",
    "\n",
    "for column in no_nas6.columns:\n",
    "    if '2011' in column:\n",
    "        eleven.append(column)\n",
    "    elif '2012' in column:\n",
    "        twelve.append(column)\n",
    "    elif '2013' in column:\n",
    "        thirteen.append(column)\n",
    "    elif '2014' in column:\n",
    "        fourteen.append(column)\n",
    "    elif '2015' in column:\n",
    "        fifteen.append(column)"
   ]
  },
  {
   "cell_type": "code",
   "execution_count": 34,
   "metadata": {},
   "outputs": [],
   "source": [
    "### Vertically stacking the dependent variable by year.\n",
    "left = no_nas6.loc[:,eleven]"
   ]
  },
  {
   "cell_type": "code",
   "execution_count": 37,
   "metadata": {},
   "outputs": [],
   "source": [
    "### Setting up a pivot table for the refugee arrival data to be merged to the country data.\n",
    "\n",
    "from pandas import pivot_table\n",
    "\n",
    "pivot = pivot_table(refugees, values = 'arrivals', index='origin', columns='year', aggfunc='sum')\n",
    "pivot.head(3)\n",
    "right = pivot\n"
   ]
  },
  {
   "cell_type": "code",
   "execution_count": 39,
   "metadata": {},
   "outputs": [],
   "source": [
    "### Dropping variables that result in colinearity, that are duplicates, or that we don't have 5 years of info for.\n",
    "env2 = ['2011 Environment2', '2012 Environment2', '2013 Environment2', '2014 Environment2', '2015 Environment2']\n",
    "sec2 = ['2011 Security2', '2012 Security2', '2013 Security2', '2014 Security2', '2015 Security2']\n",
    "wk6 = ['2011 Work6', '2012 Work6', '2013 Work6', '2014 Work6', '2015 Work6']\n",
    "wk7 = ['2011 Work7', '2012 Work7', '2013 Work7', '2014 Work7', '2015 Work7']\n",
    "sec1 = ['2011 Security1', '2012 Security1', '2013 Security1', '2014 Security1', '2015 Security1']\n",
    "\n",
    "all_ = env2+sec2+wk6+wk7+sec1\n",
    "\n",
    "no_nas7=no_nas6.drop(all_, axis=1)\n"
   ]
  },
  {
   "cell_type": "code",
   "execution_count": 46,
   "metadata": {},
   "outputs": [],
   "source": [
    "#Listing out the countries that are not common to both DFs \n",
    "refs = pivot\n",
    "to_resolve = []\n",
    "\n",
    "for country in refs.index:\n",
    "    if country in list(no_nas7.loc[:,'Country']):\n",
    "        pass\n",
    "    else:\n",
    "        to_resolve.append(country)"
   ]
  },
  {
   "cell_type": "code",
   "execution_count": 47,
   "metadata": {},
   "outputs": [],
   "source": [
    "#replacing countries that need to be replace\n",
    "solved = [\n",
    "    'Burkina Faso',\n",
    "    'Myanmar',\n",
    "    'Congo (Democratic Republic of the)',\n",
    "    'Gaza Strip',\n",
    "    'Guinea-Bissau',\n",
    "    'Iran (Islamic Republic of)',\n",
    "    \"Côte d'Ivoire\",\n",
    "    'Korea, North',\n",
    "    \"Lao People's Democratic Republic\",\n",
    "    'The former Yugoslav Republic of Macedonia',\n",
    "    'Madagascar',\n",
    "    'Moldova (Republic of)',\n",
    "    'Palestine',\n",
    "    'South Sudan',\n",
    "    'Russian Federation',\n",
    "    'Somalia',\n",
    "    'Sri Lanka',\n",
    "    'Syrian Arab Republic',\n",
    "    'Tanzania (United Republic of)',\n",
    "    'Tibet',\n",
    "    'Venezuela (Bolivarian Republic of)',\n",
    "    'Viet Nam'\n",
    "]\n",
    "\n",
    "solved_dict = {}\n",
    "\n",
    "for index in range(len(to_resolve)):\n",
    "    solved_dict[to_resolve[index]] = solved[index]"
   ]
  },
  {
   "cell_type": "code",
   "execution_count": 49,
   "metadata": {},
   "outputs": [],
   "source": [
    "### Make a list of countries so that you can add it to the refs table\n",
    "\n",
    "new_ref_countries = []\n",
    "\n",
    "for country in refs.index:\n",
    "    if country in solved_dict.keys():\n",
    "        new_ref_countries.append(solved_dict[country])\n",
    "    else:\n",
    "        new_ref_countries.append(country)\n",
    "\n",
    "refs['Country']=new_ref_countries\n",
    "\n",
    "bad_countries = []\n",
    "\n",
    "for country in list(refs['Country']):\n",
    "    if country in list(no_nas7['Country']):\n",
    "        pass\n",
    "    else:\n",
    "        bad_countries.append(country)\n",
    "            "
   ]
  },
  {
   "cell_type": "code",
   "execution_count": 51,
   "metadata": {},
   "outputs": [
    {
     "data": {
      "text/html": [
       "<div>\n",
       "<style scoped>\n",
       "    .dataframe tbody tr th:only-of-type {\n",
       "        vertical-align: middle;\n",
       "    }\n",
       "\n",
       "    .dataframe tbody tr th {\n",
       "        vertical-align: top;\n",
       "    }\n",
       "\n",
       "    .dataframe thead th {\n",
       "        text-align: right;\n",
       "    }\n",
       "</style>\n",
       "<table border=\"1\" class=\"dataframe\">\n",
       "  <thead>\n",
       "    <tr style=\"text-align: right;\">\n",
       "      <th></th>\n",
       "      <th>year</th>\n",
       "      <th>origin</th>\n",
       "      <th>dest_state</th>\n",
       "      <th>dest_city</th>\n",
       "      <th>arrivals</th>\n",
       "      <th>Country</th>\n",
       "    </tr>\n",
       "  </thead>\n",
       "  <tbody>\n",
       "    <tr>\n",
       "      <th>0</th>\n",
       "      <td>2005</td>\n",
       "      <td>Afghanistan</td>\n",
       "      <td>Alabama</td>\n",
       "      <td>Mobile</td>\n",
       "      <td>0</td>\n",
       "      <td>Afghanistan</td>\n",
       "    </tr>\n",
       "    <tr>\n",
       "      <th>1</th>\n",
       "      <td>2006</td>\n",
       "      <td>Afghanistan</td>\n",
       "      <td>Alabama</td>\n",
       "      <td>Mobile</td>\n",
       "      <td>0</td>\n",
       "      <td>Afghanistan</td>\n",
       "    </tr>\n",
       "  </tbody>\n",
       "</table>\n",
       "</div>"
      ],
      "text/plain": [
       "   year       origin dest_state dest_city  arrivals      Country\n",
       "0  2005  Afghanistan    Alabama    Mobile         0  Afghanistan\n",
       "1  2006  Afghanistan    Alabama    Mobile         0  Afghanistan"
      ]
     },
     "execution_count": 51,
     "metadata": {},
     "output_type": "execute_result"
    }
   ],
   "source": [
    "### Now replacing country names so that they're commong to both DFs\n",
    "refugees\n",
    "pre_pivot_countries = []\n",
    "\n",
    "for i in refugees.index:\n",
    "    if refugees.loc[i,'origin'] in solved_dict.keys():\n",
    "        pre_pivot_countries.append(solved_dict[refugees.loc[i,'origin']])\n",
    "    else:\n",
    "        pre_pivot_countries.append(refugees.loc[i,'origin'])\n",
    "refugees['Country'] = pre_pivot_countries\n",
    "refugees.head(2)\n",
    "    "
   ]
  },
  {
   "cell_type": "code",
   "execution_count": 52,
   "metadata": {},
   "outputs": [],
   "source": [
    "column_years = []\n",
    "\n",
    "\n",
    "for i in range(len(no_nas7.columns)):\n",
    "    if no_nas7.columns[i][:4] in column_years:\n",
    "        pass\n",
    "    else:\n",
    "        column_years.append([i, no_nas7.columns[i][:4]])"
   ]
  },
  {
   "cell_type": "code",
   "execution_count": 54,
   "metadata": {},
   "outputs": [],
   "source": [
    "### Stacking variables vertically by year\n",
    "\n",
    "a1 = ['Country']+list(no_nas7.columns)[0:40]\n",
    "a2 = ['Country']+list(no_nas7.columns)[40:80]\n",
    "a3 = ['Country']+list(no_nas7.columns)[80:120]\n",
    "a4 = ['Country']+list(no_nas7.columns)[120:160]\n",
    "a5 = ['Country']+list(no_nas7.columns)[160:200]\n",
    "\n",
    "a1x = no_nas7.loc[:,a1]\n",
    "\n",
    "headers = ['Country']\n",
    "for column in a1x.columns[1:]:\n",
    "    headers.append(column[5:])\n",
    "\n",
    "a1x.columns = headers\n",
    "a1x['year']=2011\n",
    "        \n",
    "\n",
    "a2x = no_nas7.loc[:,a2]\n",
    "\n",
    "headers = ['Country']\n",
    "for column in a2x.columns[1:]:\n",
    "    headers.append(column[5:])\n",
    "\n",
    "a2x.columns = headers\n",
    "a2x['year']=2012\n",
    "\n",
    "a3x = no_nas7.loc[:,a3]\n",
    "\n",
    "headers = ['Country']\n",
    "for column in a3x.columns[1:]:\n",
    "    headers.append(column[5:])\n",
    "\n",
    "a3x.columns = headers\n",
    "a3x['year']=2013\n",
    "\n",
    "a4x = no_nas7.loc[:,a4]\n",
    "\n",
    "headers = ['Country']\n",
    "for column in a4x.columns[1:]:\n",
    "    headers.append(column[5:])\n",
    "\n",
    "a4x.columns = headers\n",
    "a4x['year']=2014\n",
    "\n",
    "a5x = no_nas7.loc[:,a5]\n",
    "\n",
    "headers = ['Country']\n",
    "for column in a5x.columns[1:]:\n",
    "    headers.append(column[5:])\n",
    "\n",
    "a5x.columns = headers\n",
    "a5x['year']=2015\n",
    "\n",
    "anx = a1x.append(a2x).append(a3x).append(a4x).append(a5x)\n",
    "anx = anx.reset_index(drop=True)"
   ]
  },
  {
   "cell_type": "code",
   "execution_count": 56,
   "metadata": {},
   "outputs": [],
   "source": [
    "### Merging both DFs to make the final csv. \n",
    "\n",
    "refugees_pivot = pd.pivot_table(refugees, values = 'arrivals', index = ['Country', 'year'], columns='dest_state', aggfunc='sum').fillna(0)\n",
    "\n",
    "final_merged = anx.merge(refugees_pivot,on=['Country','year'], how='left').fillna(0)"
   ]
  },
  {
   "cell_type": "code",
   "execution_count": 57,
   "metadata": {},
   "outputs": [],
   "source": [
    "# final_merged.to_csv('/Users/joel/Documents/Brainstation/Tablaeu/CL')"
   ]
  }
 ],
 "metadata": {
  "kernelspec": {
   "display_name": "Python 3",
   "language": "python",
   "name": "python3"
  },
  "language_info": {
   "codemirror_mode": {
    "name": "ipython",
    "version": 3
   },
   "file_extension": ".py",
   "mimetype": "text/x-python",
   "name": "python",
   "nbconvert_exporter": "python",
   "pygments_lexer": "ipython3",
   "version": "3.6.5"
  }
 },
 "nbformat": 4,
 "nbformat_minor": 2
}
